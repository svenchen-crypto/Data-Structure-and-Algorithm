{
 "cells": [
  {
   "cell_type": "markdown",
   "id": "42485a00",
   "metadata": {},
   "source": [
    "## 977. Squares of a Sorted Array\n",
    "\n",
    "Given an integer array `nums` sorted in non-decreasing order, return an array of the squares of each number sorted in non-decreasing order.\n",
    "\n",
    "**Example**\n",
    "\n",
    "Example 1:\n",
    "\n",
    "Input: `nums = [-4,-1,0,3,10]`\n",
    "\n",
    "Output: `[0,1,9,16,100]`\n",
    "\n",
    "Explanation: After squaring, the array becomes `[16,1,0,9,100]`.\n",
    "After sorting, it becomes `[0,1,9,16,100]`.\n",
    "\n",
    "Example 2:\n",
    "\n",
    "Input: `nums = [-7,-3,2,3,11]`\n",
    "\n",
    "Output: `[4,9,9,49,121]`\n",
    "\n",
    "#### Solution 1\n"
   ]
  },
  {
   "cell_type": "code",
   "execution_count": null,
   "id": "8d033c64",
   "metadata": {},
   "outputs": [],
   "source": []
  }
 ],
 "metadata": {
  "kernelspec": {
   "display_name": "Python 3 (ipykernel)",
   "language": "python",
   "name": "python3"
  },
  "language_info": {
   "codemirror_mode": {
    "name": "ipython",
    "version": 3
   },
   "file_extension": ".py",
   "mimetype": "text/x-python",
   "name": "python",
   "nbconvert_exporter": "python",
   "pygments_lexer": "ipython3",
   "version": "3.9.13"
  }
 },
 "nbformat": 4,
 "nbformat_minor": 5
}
