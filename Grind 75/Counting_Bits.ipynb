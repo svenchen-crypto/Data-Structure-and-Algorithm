{
 "cells": [
  {
   "cell_type": "markdown",
   "id": "931c72e5",
   "metadata": {},
   "source": [
    "## 338. Counting Bits\n",
    "\n",
    "### Description\n",
    "\n",
    "Given an integer $n$, return an array $ans$ of length $n + 1$ such that for each $i (0 <= i <= n), ans[i]$ is the number of 1's in the binary representation of $i$.\n",
    "\n",
    "#### Examples\n",
    "\n",
    "Input: n = 2\n",
    "\n",
    "Output: [0,1,1]\n",
    "\n",
    "Explanation:\n",
    "\n",
    "0 --> 0\n",
    "\n",
    "1 --> 1\n",
    "\n",
    "2 --> 10\n",
    "\n",
    "Input: n = 5\n",
    "\n",
    "Output: [0,1,1,2,1,2]\n",
    "\n",
    "Explanation:\n",
    "\n",
    "0 --> 0\n",
    "\n",
    "1 --> 1\n",
    "\n",
    "2 --> 10\n",
    "\n",
    "3 --> 11\n",
    "\n",
    "4 --> 100\n",
    "\n",
    "5 --> 101\n",
    "\n",
    "#### Solution (Dynamic Programming)\n"
   ]
  },
  {
   "cell_type": "code",
   "execution_count": null,
   "id": "1486ee69",
   "metadata": {},
   "outputs": [],
   "source": []
  }
 ],
 "metadata": {
  "kernelspec": {
   "display_name": "Python 3 (ipykernel)",
   "language": "python",
   "name": "python3"
  },
  "language_info": {
   "codemirror_mode": {
    "name": "ipython",
    "version": 3
   },
   "file_extension": ".py",
   "mimetype": "text/x-python",
   "name": "python",
   "nbconvert_exporter": "python",
   "pygments_lexer": "ipython3",
   "version": "3.9.13"
  }
 },
 "nbformat": 4,
 "nbformat_minor": 5
}
