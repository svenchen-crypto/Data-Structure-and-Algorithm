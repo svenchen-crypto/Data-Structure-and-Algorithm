{
 "cells": [
  {
   "cell_type": "markdown",
   "id": "3d59e625",
   "metadata": {},
   "source": [
    "## 322. Coin change\n",
    "\n",
    "### Description\n",
    "\n",
    "You are given an integer array coins representing coins of different denominations and an integer amount representing a total amount of money.\n",
    "\n",
    "Return the fewest number of coins that you need to make up that amount. If that amount of money cannot be made up by any combination of the coins, return -1.\n",
    "\n",
    "You may assume that you have an infinite number of each kind of coin.\n",
    "\n",
    "### Example\n",
    "\n",
    "**Input**: coins = [1,2,5], amount = 11\n",
    "\n",
    "**Output**: 3\n",
    "\n",
    "**Explanation**: 11 = 5 + 5 + 1\n",
    "\n",
    "\n",
    "**Input**: coins = [2], amount = 3\n",
    "\n",
    "**Output**: -1\n",
    "\n",
    "**Input**: coins = [1], amount = 0\n",
    "\n",
    "**Output**: 0\n",
    "\n",
    "### Solution\n",
    "\n"
   ]
  },
  {
   "cell_type": "code",
   "execution_count": null,
   "id": "9946c5c3",
   "metadata": {},
   "outputs": [],
   "source": []
  }
 ],
 "metadata": {
  "kernelspec": {
   "display_name": "Python 3 (ipykernel)",
   "language": "python",
   "name": "python3"
  },
  "language_info": {
   "codemirror_mode": {
    "name": "ipython",
    "version": 3
   },
   "file_extension": ".py",
   "mimetype": "text/x-python",
   "name": "python",
   "nbconvert_exporter": "python",
   "pygments_lexer": "ipython3",
   "version": "3.9.13"
  }
 },
 "nbformat": 4,
 "nbformat_minor": 5
}
