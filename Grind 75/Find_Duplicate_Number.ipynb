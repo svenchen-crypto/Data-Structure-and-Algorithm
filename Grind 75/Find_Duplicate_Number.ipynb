{
 "cells": [
  {
   "cell_type": "markdown",
   "id": "1c1aa217",
   "metadata": {},
   "source": [
    "## 287. Find the Duplicate Number\n",
    "\n",
    "#### Description\n",
    "\n",
    "Given an array of integers `nums` containing `n + 1` integers where each integer is in the range `[1, n]` inclusive. There is only one repeated number in `nums`, return this repeated number.\n",
    "\n",
    "You must solve the problem without modifying the array nums and using only constant extra space.\n",
    "\n",
    "#### Example \n",
    "\n",
    "Input: `nums = [1,3,4,2,2]`\n",
    "\n",
    "Output: `2`\n",
    "\n",
    "Input: `nums = [3,1,3,4,2]`\n",
    "\n",
    "Output: `3`\n",
    "\n",
    "Input: `nums = [3,3,3,3,3]`\n",
    "\n",
    "Output: `3`\n",
    "\n",
    "### Solution\n",
    "\n",
    "**Does such number always exist in the input array?**"
   ]
  },
  {
   "cell_type": "code",
   "execution_count": null,
   "id": "582d3c5e",
   "metadata": {},
   "outputs": [],
   "source": []
  }
 ],
 "metadata": {
  "kernelspec": {
   "display_name": "Python 3 (ipykernel)",
   "language": "python",
   "name": "python3"
  },
  "language_info": {
   "codemirror_mode": {
    "name": "ipython",
    "version": 3
   },
   "file_extension": ".py",
   "mimetype": "text/x-python",
   "name": "python",
   "nbconvert_exporter": "python",
   "pygments_lexer": "ipython3",
   "version": "3.9.13"
  }
 },
 "nbformat": 4,
 "nbformat_minor": 5
}
