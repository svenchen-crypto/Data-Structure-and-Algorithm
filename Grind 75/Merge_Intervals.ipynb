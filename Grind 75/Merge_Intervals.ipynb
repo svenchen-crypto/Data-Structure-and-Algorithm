{
 "cells": [
  {
   "cell_type": "markdown",
   "id": "233e2965",
   "metadata": {},
   "source": [
    "## 56. Merge Intervals\n",
    "\n",
    "### Description\n",
    "\n",
    "Given an array of intervals where intervals$[i] = [start_i, end_i]$, merge all overlapping intervals, and return an array of the non-overlapping intervals that cover all the intervals in the input.\n",
    "\n",
    "### Examples\n",
    "\n",
    "**Input:** intervals = [[1,3],[2,6],[8,10],[15,18]]\n",
    "\n",
    "**Output:** [[1,6],[8,10],[15,18]]\n",
    "\n",
    "**Explanation:** Since intervals [1,3] and [2,6] overlap, merge them into [1,6].\n",
    "\n",
    "\n",
    "**Input:** intervals = [[1,4],[4,5]]\n",
    "\n",
    "**Output:** [[1,5]]\n",
    "\n",
    "**Explanation:** Intervals [1,4] and [4,5] are considered overlapping.\n",
    "\n",
    "### Solution\n",
    "\n",
    "This problem is very similar to Leetcode 57. Insert Intervals. For two intervals $i, j$ to have intersaction, they must suffice the condition: $end_i < start_j$ or vice versa. Therefore, all we need to do is to sor the input array in ascending order with respect to the start of interval. To merge, simply do $start = min(start_i, start_j), end = max(end_i, end_j)$.\n",
    "\n",
    "**Pseudocode**\n",
    "\n",
    "```\n",
    "func merge(intervals):\n",
    "    res = []\n",
    "    intervals.sort()\n",
    "    for s, e in intervals, do:\n",
    "        if res[-1][1] >= s:\n",
    "            res[-1] = [min(s, res[-1][0]), max(e, res[-1][1])]\n",
    "        else:\n",
    "            res.add([s, e])\n",
    "    return res\n",
    "```"
   ]
  },
  {
   "cell_type": "code",
   "execution_count": 1,
   "id": "098ccd65",
   "metadata": {},
   "outputs": [
    {
     "name": "stdout",
     "output_type": "stream",
     "text": [
      "[[1, 6], [8, 10], [15, 18]]\n"
     ]
    }
   ],
   "source": [
    "def merge(intervals):\n",
    "    if len(intervals) == 1:\n",
    "        return intervals\n",
    "\n",
    "    intervals.sort(key = lambda x: x[0])\n",
    "    ans = []\n",
    "    for start, end in intervals:\n",
    "        if not ans:\n",
    "            ans.append([start, end]) \n",
    "        \n",
    "        #If there is overlap\n",
    "        if ans[-1][1] >= start:\n",
    "            ans[-1] = [min(ans[-1][0], start), max(ans[-1][1], end)]\n",
    "        #No overlap\n",
    "        else:\n",
    "            ans.append([start, end])\n",
    "\n",
    "    return ans\n",
    "\n",
    "\n",
    "intervals = [[1,3],[2,6],[8,10],[15,18]]\n",
    "res = merge(intervals)\n",
    "print(res)"
   ]
  },
  {
   "cell_type": "markdown",
   "id": "8b583b37",
   "metadata": {},
   "source": [
    "### Time complexity\n",
    "\n",
    "$O(nlogn)$"
   ]
  },
  {
   "cell_type": "code",
   "execution_count": null,
   "id": "30195ad2",
   "metadata": {},
   "outputs": [],
   "source": []
  }
 ],
 "metadata": {
  "kernelspec": {
   "display_name": "Python 3 (ipykernel)",
   "language": "python",
   "name": "python3"
  },
  "language_info": {
   "codemirror_mode": {
    "name": "ipython",
    "version": 3
   },
   "file_extension": ".py",
   "mimetype": "text/x-python",
   "name": "python",
   "nbconvert_exporter": "python",
   "pygments_lexer": "ipython3",
   "version": "3.9.13"
  }
 },
 "nbformat": 4,
 "nbformat_minor": 5
}
