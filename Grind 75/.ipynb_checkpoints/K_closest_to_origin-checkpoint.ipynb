{
 "cells": [
  {
   "cell_type": "markdown",
   "id": "5dc81266",
   "metadata": {},
   "source": [
    "## 973. K Closest Points to Origin \n",
    "\n",
    "### Description\n",
    "\n",
    "Given an array of points where points$[i] = [x_i, y_i]$ represents a point on the $X-Y$ plane and an integer k, return the $k$ closest points to the origin $(0, 0)$.\n",
    "\n",
    "The distance between two points on the X-Y plane is the Euclidean distance (i.e., $\\sqrt{(x_1 - x_2)^2 + (y_1 - y_2)^2}$).\n",
    "\n",
    "You may return the answer in any order. The answer is guaranteed to be unique (except for the order that it is in).\n",
    "\n",
    "**Example**\n",
    "\n",
    "Input: $points = [[1,3],[-2,2]], k = 1$\n",
    "\n",
    "Output: $[[-2,2]]$\n",
    "\n",
    "Explanation:\n",
    "\n",
    "The distance between $(1, 3)$ and the origin is $\\sqrt(10)$.\n",
    "\n",
    "The distance between (-2, 2) and the origin is $\\sqrt(8)$.\n",
    "\n",
    "Since $\\sqrt(8) < \\sqrt(10)$, $(-2, 2)$ is closer to the origin.\n",
    "We only want the closest $k = 1$ points from the origin, so the answer is just $[[-2,2]]$.\n",
    "\n",
    "\n",
    "Input: $points = [[3,3],[5,-1],[-2,4]], k = 2$\n",
    "\n",
    "Output: $[[3,3],[-2,4]]$\n",
    "\n",
    "Explanation: The answer $[[-2,4],[3,3]]$ would also be accepted.\n",
    "\n",
    "### Algorithm\n",
    "\n",
    "**Naive approach**\n",
    "\n",
    "When encounter such problem, sorting will be the first thing that comes to our mind: we sort the list with respect to the euclidiean distance between origin and points, then pick the first $k$ elements. By applying sorthing algorithm, we will have a run time of $O(nlogn)$. \n",
    "\n",
    "**Optimization**\n",
    "\n",
    "Notice the program only need to return $k$ points,and order does not matter. We will optimize the original algorithm from here by using a min-heap with fixed size of $n-k$. Thanks to the property of min-heap, if we build it using the euclidean distance of input points, we are guaranteed to have first $k$ points have smaller distance than the rest of points. So, when the min-heap has size bigger than $n-k$, we extract the minimum element from it and add it to the list we want to return. \n",
    "\n",
    "**Pseudocode**\n",
    "\n",
    "```\n",
    "func KClosest(points, k):\n",
    "    result = []\n",
    "    heap = {}\n",
    "    for x,y in point, do:\n",
    "        euclidean_dist = sqrt((x-0)^2+(y-0)^2))\n",
    "        heap.push((euclidean_dist, (x,y))\n",
    "        if size(heap) > n-k:\n",
    "            result.add(extract_min(heap))\n",
    "    return result\n",
    "\n",
    "```"
   ]
  },
  {
   "cell_type": "code",
   "execution_count": 7,
   "id": "f18ae73e",
   "metadata": {},
   "outputs": [
    {
     "name": "stdout",
     "output_type": "stream",
     "text": [
      "Top 2 cloeset points to origin are: [[3, 3], [-2, 4]]\n"
     ]
    }
   ],
   "source": [
    "import math\n",
    "import heapq\n",
    "\n",
    "def kClosest(points, k):\n",
    "    n = len(points)\n",
    "    result = []\n",
    "    min_heap = []\n",
    "\n",
    "    for point in points:\n",
    "        euclidean_dist = math.sqrt((point[0]-0)**2+(point[1]-0)**2)\n",
    "        heapq.heappush(min_heap, (euclidean_dist, point))\n",
    "        if len(min_heap) > n-k:\n",
    "            result.append(heapq.heappop(min_heap)[1])\n",
    "\n",
    "    return result\n",
    "\n",
    "points = [[3,3],[5,-1],[-2,4]]\n",
    "k = 2\n",
    "\n",
    "KClosest_points = kClosest(points, k)\n",
    "print(f\"Top {k} cloeset points to origin are: {KClosest_points}\")"
   ]
  },
  {
   "cell_type": "markdown",
   "id": "172c0437",
   "metadata": {},
   "source": [
    "### Time complexity\n",
    "\n",
    "The program iterate through each point, in each iteration, it computes euclidean distance ($O(1)$) and $extract-min (O(log(k))$ if size of the heap $> n-k$. Therefore, the time complexity is $O(nlogk)$. "
   ]
  },
  {
   "cell_type": "markdown",
   "id": "b6673ba5",
   "metadata": {},
   "source": [
    "### Playbook for top $k$ problems\n",
    "\n",
    "The heap data structure is extremely useful when solving such problems. \n",
    "\n",
    "   - If we want top $k$ greatest, condition is $size(heap) > k$\n",
    "   - If we want top $k$ smallest, condition is $size(heap) > n-k$\n",
    "\n",
    "\n",
    "The code snippet looks like this:\n",
    "\n",
    "```\n",
    "heap = {}\n",
    "result = []\n",
    "\n",
    "for item in list l:\n",
    "    do something here\n",
    "    heap.push(item)\n",
    "    if conditions:\n",
    "        result.add(item)\n",
    "\n",
    "return result\n",
    "\n",
    "```\n",
    "\n",
    "### Similar problems\n",
    "\n",
    "- Leetcode 347. Top K frequent elements\n",
    "\n",
    "- Leetcode 703. Kth Largest Element in a Stream\n",
    "\n",
    "- Leetcode 703. Kth Largest Element in a Stream"
   ]
  }
 ],
 "metadata": {
  "kernelspec": {
   "display_name": "Python 3 (ipykernel)",
   "language": "python",
   "name": "python3"
  },
  "language_info": {
   "codemirror_mode": {
    "name": "ipython",
    "version": 3
   },
   "file_extension": ".py",
   "mimetype": "text/x-python",
   "name": "python",
   "nbconvert_exporter": "python",
   "pygments_lexer": "ipython3",
   "version": "3.9.13"
  }
 },
 "nbformat": 4,
 "nbformat_minor": 5
}
