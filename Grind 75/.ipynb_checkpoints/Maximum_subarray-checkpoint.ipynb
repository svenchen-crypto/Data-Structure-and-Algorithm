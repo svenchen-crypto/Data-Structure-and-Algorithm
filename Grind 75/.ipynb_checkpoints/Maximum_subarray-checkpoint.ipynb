{
 "cells": [
  {
   "cell_type": "markdown",
   "id": "91e97b4b",
   "metadata": {},
   "source": [
    "## Maximum subarray\n",
    "\n",
    "### Description\n",
    "\n",
    "Given an integer array nums, find the subarray with the largest sum, and return its sum.\n",
    "\n",
    "### Example\n",
    "\n",
    "**Input**: nums = [-2,1,-3,4,-1,2,1,-5,4]\n",
    "\n",
    "**Output**: 6\n",
    "\n",
    "**Explanation**: The subarray [4,-1,2,1] has the largest sum 6.\n",
    "\n",
    "**Input**: nums = [5,4,-1,7,8]\n",
    "\n",
    "**Output**: 23\n",
    "\n",
    "**Explanation**: The subarray [5,4,-1,7,8] has the largest sum 23."
   ]
  },
  {
   "cell_type": "code",
   "execution_count": null,
   "id": "bfbccff7",
   "metadata": {},
   "outputs": [],
   "source": []
  }
 ],
 "metadata": {
  "kernelspec": {
   "display_name": "Python 3 (ipykernel)",
   "language": "python",
   "name": "python3"
  },
  "language_info": {
   "codemirror_mode": {
    "name": "ipython",
    "version": 3
   },
   "file_extension": ".py",
   "mimetype": "text/x-python",
   "name": "python",
   "nbconvert_exporter": "python",
   "pygments_lexer": "ipython3",
   "version": "3.9.13"
  }
 },
 "nbformat": 4,
 "nbformat_minor": 5
}
