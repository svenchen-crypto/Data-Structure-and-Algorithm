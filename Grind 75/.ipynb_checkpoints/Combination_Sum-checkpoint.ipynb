{
 "cells": [
  {
   "cell_type": "markdown",
   "id": "fe7d468d",
   "metadata": {},
   "source": [
    "## 39. Combination Sum\n",
    "\n",
    "### Description\n",
    "\n",
    "Given an array of *distinct* integers candidates and a target integer target, return a list of all unique combinations of candidates where the chosen numbers sum to target. You may return the combinations in any order.\n",
    "\n",
    "The same number may be chosen from candidates an unlimited number of times. Two combinations are unique if the \n",
    "frequency of at least one of the chosen numbers is different.\n",
    "\n",
    "The test cases are generated such that the number of unique combinations that sum up to target is less than 150 combinations for the given input.\n",
    "\n",
    "### Example\n",
    "\n",
    "**Input:** candidates = [2,3,6,7], target = 7\n",
    "\n",
    "**Output:** [[2,2,3],[7]]\n",
    "\n",
    "**Explanation:**\n",
    "2 and 3 are candidates, and 2 + 2 + 3 = 7. Note that 2 can be used multiple times. 7 is a candidate, and 7 = 7. These are the only two combinations.\n",
    "\n",
    "**Input:** candidates = [2,3,5], target = 8\n",
    "\n",
    "**Output:** [[2,2,2,2],[2,3,3],[3,5]]\n",
    "\n",
    "\n",
    "### Solution (Apply backtrack on a 1D array)\n",
    "\n"
   ]
  },
  {
   "cell_type": "code",
   "execution_count": null,
   "id": "53f881bb",
   "metadata": {},
   "outputs": [],
   "source": []
  }
 ],
 "metadata": {
  "kernelspec": {
   "display_name": "Python 3 (ipykernel)",
   "language": "python",
   "name": "python3"
  },
  "language_info": {
   "codemirror_mode": {
    "name": "ipython",
    "version": 3
   },
   "file_extension": ".py",
   "mimetype": "text/x-python",
   "name": "python",
   "nbconvert_exporter": "python",
   "pygments_lexer": "ipython3",
   "version": "3.9.13"
  }
 },
 "nbformat": 4,
 "nbformat_minor": 5
}
