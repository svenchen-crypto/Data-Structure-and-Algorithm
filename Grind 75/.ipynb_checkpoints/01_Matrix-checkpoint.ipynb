{
 "cells": [
  {
   "cell_type": "markdown",
   "id": "d1157066",
   "metadata": {},
   "source": [
    "## 542. 01 Matrix\n",
    "\n",
    "#### Description\n",
    "\n",
    "Given an $m * n$ binary matrix *mat*, return the distance of the nearest 0 for each cell.\n",
    "\n",
    "The distance between two adjacent cells is 1.\n",
    "\n",
    "**Example**\n",
    "\n",
    "**Input**: mat = [[0,0,0],[0,1,0],[0,0,0]]\n",
    "\n",
    "**Output**: [[0,0,0],[0,1,0],[0,0,0]]\n",
    "\n",
    "**Input**: mat = [[0,0,0],[0,1,0],[1,1,1]]\n",
    "\n",
    "**Output**: [[0,0,0],[0,1,0],[1,2,1]]\n",
    "\n",
    "### Solution (Apply BFS on 2D grid)\n",
    "\n",
    "This question is asking us to find the distance between grids with non-zero value to closest grid filled with zero. Whenever shortest distance arise, we immediately think of BFS. We take grids of zeros as our source of BFS traversal, "
   ]
  },
  {
   "cell_type": "code",
   "execution_count": 3,
   "id": "a59f0d32",
   "metadata": {},
   "outputs": [
    {
     "name": "stdout",
     "output_type": "stream",
     "text": [
      "Original matrix is:\n",
      "[[0, 0, 0], [0, 1, 0], [1, 1, 1]]\n",
      "\n",
      "\n",
      "Matrix after updating is\n",
      "[[0, 0, 0], [0, 1, 0], [1, 2, 1]]\n"
     ]
    }
   ],
   "source": [
    "import collections\n",
    "\n",
    "def updateMatrix(mat):\n",
    "    m, n = len(mat), len(mat[0])\n",
    "    queue = collections.deque()\n",
    "    visited = set()\n",
    "    directions = [(1, 0), (-1, 0), (0, 1), (0, -1)]\n",
    "\n",
    "    #Add all zeros to queue, and mark the distance as 0\n",
    "    for i in range(m):\n",
    "        for j in range(n):\n",
    "            if mat[i][j] == 0:\n",
    "                queue.append((i, j, 0))\n",
    "                visited.add((i, j))\n",
    "\n",
    "    #BFS\n",
    "    while queue:\n",
    "        x, y, step = queue.popleft()\n",
    "        #traverse along 4 directions, if there is nonzero in the neighbor, incremet the step\n",
    "        for dx, dy in directions:\n",
    "            if 0 <= x+dx <= m-1 and 0 <= y+dy <= n-1 and (x+dx, y+dy) not in visited:\n",
    "                visited.add((x+dx, y+dy))\n",
    "                mat[x+dx][y+dy] = step + 1\n",
    "                queue.append((x+dx, y+dy, step+1))\n",
    "\n",
    "    return mat\n",
    "\n",
    "mat = [[0,0,0],[0,1,0],[1,1,1]]\n",
    "print(\"Original matrix is:\")\n",
    "print(mat)\n",
    "print(\"\\n\")\n",
    "mat = updateMatrix(mat)\n",
    "print(\"Matrix after updating is\")\n",
    "print(mat)"
   ]
  },
  {
   "cell_type": "code",
   "execution_count": null,
   "id": "26897a56",
   "metadata": {},
   "outputs": [],
   "source": []
  }
 ],
 "metadata": {
  "kernelspec": {
   "display_name": "Python 3 (ipykernel)",
   "language": "python",
   "name": "python3"
  },
  "language_info": {
   "codemirror_mode": {
    "name": "ipython",
    "version": 3
   },
   "file_extension": ".py",
   "mimetype": "text/x-python",
   "name": "python",
   "nbconvert_exporter": "python",
   "pygments_lexer": "ipython3",
   "version": "3.9.13"
  }
 },
 "nbformat": 4,
 "nbformat_minor": 5
}
