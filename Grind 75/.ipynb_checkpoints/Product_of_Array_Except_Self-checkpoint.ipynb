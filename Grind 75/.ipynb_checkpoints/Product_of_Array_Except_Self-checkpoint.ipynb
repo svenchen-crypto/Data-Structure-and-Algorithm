{
 "cells": [
  {
   "cell_type": "markdown",
   "id": "69975449",
   "metadata": {},
   "source": [
    "## 238. Product of Array Except Self\n",
    "\n",
    "### Description\n",
    "\n",
    "Given an integer array nums, return an array answer such that answer$[i]$ is equal to the product of all the elements of nums except nums$[i]$.\n",
    "\n",
    "The product of any prefix or suffix of nums is guaranteed to fit in a 32-bit integer.\n",
    "\n",
    "You must write an algorithm that runs in $O(n)$ time and without using the division operation.\n",
    "\n",
    "### Examples\n",
    "\n",
    "Input: nums = $[1,2,3,4]$\n",
    "\n",
    "Output: $[24,12,8,6]$\n",
    "\n",
    "Input: nums = $[-1,1,0,-3,3]$\n",
    "\n",
    "Output: $[0,0,9,0,0]$\n",
    "\n",
    "### Solution\n",
    "\n"
   ]
  },
  {
   "cell_type": "code",
   "execution_count": null,
   "id": "666bfa11",
   "metadata": {},
   "outputs": [],
   "source": []
  }
 ],
 "metadata": {
  "kernelspec": {
   "display_name": "Python 3 (ipykernel)",
   "language": "python",
   "name": "python3"
  },
  "language_info": {
   "codemirror_mode": {
    "name": "ipython",
    "version": 3
   },
   "file_extension": ".py",
   "mimetype": "text/x-python",
   "name": "python",
   "nbconvert_exporter": "python",
   "pygments_lexer": "ipython3",
   "version": "3.9.13"
  }
 },
 "nbformat": 4,
 "nbformat_minor": 5
}
