{
 "cells": [
  {
   "cell_type": "markdown",
   "id": "c192e206",
   "metadata": {},
   "source": [
    "## 57. Insert Intervals\n",
    "\n",
    "### Description\n",
    "\n",
    "You are given an array of non-overlapping intervals intervals where intervals$[i] = [start_i, end_i]$ represent the start and the end of the ith interval and intervals is sorted in ascending order by starti. You are also given an interval newInterval = $[start, end]$ that represents the start and end of another interval.\n",
    "\n",
    "Insert newInterval into intervals such that intervals is still sorted in ascending order by starti and intervals still does not have any overlapping intervals (merge overlapping intervals if necessary).\n",
    "\n",
    "Return intervals after the insertion.\n",
    "\n",
    "Note that you don't need to modify intervals in-place. You can make a new array and return it.\n",
    "\n",
    "### Example\n",
    "\n",
    "**Input**: intervals = [[1,3],[6,9]], newInterval = [2,5]\n",
    "\n",
    "**Output**: [[1,5],[6,9]]\n",
    "\n",
    "\n",
    "**Input**: intervals = [[1,2],[3,5],[6,7],[8,10],[12,16]], newInterval = [4,8]\n",
    "\n",
    "**Output**: [[1,2],[3,10],[12,16]]\n",
    "\n",
    "**Explanation**: Because the new interval [4,8] overlaps with [3,5],[6,7],[8,10]."
   ]
  },
  {
   "cell_type": "markdown",
   "id": "26772679",
   "metadata": {},
   "source": [
    "### Solution\n",
    "\n",
    "For the input interval $i$ to have overlap with an interval $j$, there are two cases:\n",
    "\n",
    "1. $start_i >= start_j$\n",
    "\n",
    "2. $end_i <= end_j$\n",
    "\n",
    "Those are the two kinds of interval we need to merge in the array. To merge, simply do $start = min(start_i, start_j), end = max(end_i, end_j)$. \n",
    "\n",
    "**Algorithm**\n",
    "\n",
    "1. Initialize an empty array(list) $a$\n",
    "\n",
    "2. For each interval in the input list, we check whether it has overlap with the given interval.\n",
    "\n",
    "3. If does, merge two intervals and continue traversing until there is no overlap, then add it to $a$.\n",
    "\n",
    "4. If not, check if it's been added to $a$, if not, append it to $a$."
   ]
  },
  {
   "cell_type": "code",
   "execution_count": 2,
   "id": "0b9ccafe",
   "metadata": {},
   "outputs": [],
   "source": [
    "def insert(self, intervals, newInterval):\n",
    "    ans = []\n",
    "    start, end = newInterval[0], newInterval[1]\n",
    "    i = 0\n",
    "\n",
    "    #Case 1, when no overlap and \n",
    "    while i < len(intervals) and intervals[i][1] < start:\n",
    "        ans.append(intervals[i])\n",
    "        i = i+1\n",
    "\n",
    "    #Case 2, when there are overlap\n",
    "    while i < len(intervals) and (intervals[i][0] < end):\n",
    "        newInterval[0] = min(intervals[i][0], newInterval[0])\n",
    "        newInterval[1] = max(intervals[i][1], newInterval[1])\n",
    "        i = i+1\n",
    "    ans.append(newInterval)\n",
    "\n",
    "    #Case 3\n",
    "    while i < len(intervals):\n",
    "        ans.append(intervals[i])\n",
    "        i = i+1\n",
    "\n",
    "    return ans"
   ]
  },
  {
   "cell_type": "code",
   "execution_count": null,
   "id": "ffd3da95",
   "metadata": {},
   "outputs": [],
   "source": []
  }
 ],
 "metadata": {
  "kernelspec": {
   "display_name": "Python 3 (ipykernel)",
   "language": "python",
   "name": "python3"
  },
  "language_info": {
   "codemirror_mode": {
    "name": "ipython",
    "version": 3
   },
   "file_extension": ".py",
   "mimetype": "text/x-python",
   "name": "python",
   "nbconvert_exporter": "python",
   "pygments_lexer": "ipython3",
   "version": "3.9.13"
  }
 },
 "nbformat": 4,
 "nbformat_minor": 5
}
