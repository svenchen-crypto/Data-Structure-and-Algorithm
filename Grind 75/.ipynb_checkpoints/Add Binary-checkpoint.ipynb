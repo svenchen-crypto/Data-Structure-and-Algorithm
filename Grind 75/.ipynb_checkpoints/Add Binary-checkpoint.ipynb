{
 "cells": [
  {
   "cell_type": "markdown",
   "id": "d54c62f9",
   "metadata": {},
   "source": [
    "## 67. Add Binary\n",
    "\n",
    "Given two binary strings $a$ and $b$, return their sum as a binary string.\n",
    "\n",
    "**Examples**\n",
    "\n",
    "Input: $a = \"11\", b = \"1\"$\n",
    "\n",
    "Output: $\"100\"$\n",
    "\n",
    "Input: $a = \"1010\", b = \"1011\"$\n",
    "\n",
    "Output: $\"10101\"$\n",
    "\n",
    "#### Solution"
   ]
  },
  {
   "cell_type": "code",
   "execution_count": null,
   "id": "d32939ff",
   "metadata": {},
   "outputs": [],
   "source": []
  }
 ],
 "metadata": {
  "kernelspec": {
   "display_name": "Python 3 (ipykernel)",
   "language": "python",
   "name": "python3"
  },
  "language_info": {
   "codemirror_mode": {
    "name": "ipython",
    "version": 3
   },
   "file_extension": ".py",
   "mimetype": "text/x-python",
   "name": "python",
   "nbconvert_exporter": "python",
   "pygments_lexer": "ipython3",
   "version": "3.9.13"
  }
 },
 "nbformat": 4,
 "nbformat_minor": 5
}
