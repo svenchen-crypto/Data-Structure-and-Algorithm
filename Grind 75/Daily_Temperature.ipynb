{
 "cells": [
  {
   "cell_type": "markdown",
   "id": "6af99906",
   "metadata": {},
   "source": [
    "## 739. Daily Temperatures\n",
    "\n",
    "### Description\n",
    "\n",
    "Given an array of integers temperatures represents the daily temperatures, return an array answer such that `nswer[i]`is the number of days you have to wait after the ith day to get a warmer temperature. If there is no future day for which this is possible, keep `nswer[i] == 0`instead.\n",
    "\n",
    "#### Examples\n",
    "\n",
    "Input: `temperatures = [73,74,75,71,69,72,76,73]`\n",
    "\n",
    "Output: `[1,1,4,2,1,1,0,0]`\n",
    "\n",
    "\n",
    "Input: `temperatures = [30,60,90]`\n",
    "\n",
    "Output: `[1,1,1,0]`\n",
    "\n",
    "### Solution (Brute Force)\n",
    "\n",
    "Our goal is to find the number of days until the next day that is warmer than the current day for each day in the input list. Like all questions, it's easier to think about the brute force way. For this question, we scan the whole input array, for each index $i$, scan the subarray $tempuratrues[i+1:]$ looking for the next day with higher degree. Pseudocode looks like the following:\n",
    "\n",
    "```\n",
    "days_waited = []\n",
    "for i = 0, 1, 2, ... n:\n",
    "    for j = i + 1, ... n:\n",
    "        if temperature[j] > temperature[i]:\n",
    "            days_waited[i] = j - i + 1\n",
    "            break\n",
    "```\n",
    "\n",
    "This apporach works out fine but it would take run time of $O(n^2)$ in worst case (If first day has a very high tempurature). How can we optimize it?\n",
    "\n",
    "**Optimize using Monotonic Stack**\n",
    "\n",
    "According to Wikipedia, a monotonic stack is simply a stack where the elements are always in sorted order. How can we apply this concept to solve the problem more efficiently? Remember, we need to determine the number of days the $i$th day has to wait for a warmer day. We first initilize an empty list `days_to_wait` to store result for each day. If the temperature never becomes warmer than on day $i$, we leave $ith$ index in `days_to_wait` as 0. If such a day exists, we just need to trace back and compute the difference between that day and day $i$. This is where the monotonic stack comes into play. Whenever we encounter a new temperature `T`, we push it onto the stack. We continue doing this until we find a value `T'` greater than the last index in the stack. At that point, we pop all the values in the stack that are smaller than `T'`, and for each value popped, we compute the difference in dates and update the result list.\n",
    "\n",
    "**Pseudocode**\n",
    "\n",
    "```\n",
    "days_waited = []\n",
    "stk = []\n",
    "for i = 0, 1, 2, ... n:\n",
    "    while stk and stk.pop() < temperatures[i], do:\n",
    "        t, date = stk.pop()\n",
    "        days_waited[t] = i - t\n",
    "    stk.add((temperatures[i], i))\n",
    "```"
   ]
  },
  {
   "cell_type": "code",
   "execution_count": 4,
   "id": "99898ae7",
   "metadata": {},
   "outputs": [
    {
     "name": "stdout",
     "output_type": "stream",
     "text": [
      "[1, 1, 4, 2, 1, 1, 0, 0]\n"
     ]
    }
   ],
   "source": [
    "def dailyTemperatures(tempuratures):\n",
    "    n = len(tempuratures)\n",
    "    days_to_wait = [0 for _ in range(n)]\n",
    "    # Initilize the monotonic stack\n",
    "    stk = []\n",
    "    for i in range(n):\n",
    "        # Pop all temperatures that less than current temp\n",
    "        while stk and stk[-1][0] < tempuratures[i]:\n",
    "            _, day = stk.pop()\n",
    "            # Compute the difference between current date and poped one\n",
    "            days_to_wait[day] = i - day\n",
    "        stk.append((tempuratures[i], i))\n",
    "    return days_to_wait\n",
    "\n",
    "temperatures = [73,74,75,71,69,72,76,73]\n",
    "days_to_wait = dailyTemperatures(temperatures)\n",
    "print(days_to_wait)"
   ]
  },
  {
   "cell_type": "markdown",
   "id": "def8d758",
   "metadata": {},
   "source": [
    "### Complexity Analysis\n",
    "\n",
    "Although the algorithm has a nested loop, which might intuitively suggest a runtime of $O(n^2)$, it actually runs in $O(n)$. Why? The explanation is straightforward. Consider an extreme case: a list of $n$ days where the temperature on day 1 is very high, and all subsequent days have lower temperatures, except for the last day. Initially, the function will add day 1 to the stack since the stack is empty. It will then continuously add new values to the stack until it encounters the last day. At this point, the function has performed $n - 1$ `push()`. Now, when it processes the last day, it will start `pop()` operations, and there will also be $n - 1$ times pops. In total, the runtime in this case is $(n - 1) + (n - 1) = 2n - 2 = O(n)$.\n",
    "\n",
    "Since we are using a monotonic stack, the space complexity will be $O(n)$. "
   ]
  }
 ],
 "metadata": {
  "kernelspec": {
   "display_name": "Python 3 (ipykernel)",
   "language": "python",
   "name": "python3"
  },
  "language_info": {
   "codemirror_mode": {
    "name": "ipython",
    "version": 3
   },
   "file_extension": ".py",
   "mimetype": "text/x-python",
   "name": "python",
   "nbconvert_exporter": "python",
   "pygments_lexer": "ipython3",
   "version": "3.9.13"
  }
 },
 "nbformat": 4,
 "nbformat_minor": 5
}
