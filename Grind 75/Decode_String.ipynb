{
 "cells": [
  {
   "cell_type": "markdown",
   "id": "4e7205d8",
   "metadata": {},
   "source": [
    "## 394. Decode String\n",
    "\n",
    "#### *Description*\n",
    "\n",
    "Given an encoded string, return its decoded string.\n",
    "\n",
    "The encoding rule is: `k[encoded_string]`, where the encoded_string inside the square brackets is being repeated exactly `k` times. Note that `k` is guaranteed to be a positive integer.\n",
    "\n",
    "You may assume that the input string is always valid; there are no extra white spaces, square brackets are well-formed, etc. Furthermore, you may assume that the original data does not contain any digits and that digits are only for those repeat numbers, `k`. For example, there will not be input like `3a` or `2[4]`.\n",
    "\n",
    "The test cases are generated so that the length of the output will never exceed $10^5$.\n",
    "\n",
    "#### Examples\n",
    "\n",
    "Input: `s = \"3[a]2[bc]\"`\n",
    "\n",
    "Output: `\"aaabcbc\"`\n",
    "\n",
    "Input: `s = \"3[a2[c]]\"`\n",
    "\n",
    "Output: `\"accaccacc\"`\n",
    "\n",
    "Input: `s = \"2[abc]3[cd]ef\"`\n",
    "\n",
    "Output: `\"abcabccdcdcdef\"`\n",
    "\n",
    "### Solution (Stack)"
   ]
  }
 ],
 "metadata": {
  "kernelspec": {
   "display_name": "Python 3 (ipykernel)",
   "language": "python",
   "name": "python3"
  },
  "language_info": {
   "codemirror_mode": {
    "name": "ipython",
    "version": 3
   },
   "file_extension": ".py",
   "mimetype": "text/x-python",
   "name": "python",
   "nbconvert_exporter": "python",
   "pygments_lexer": "ipython3",
   "version": "3.9.13"
  }
 },
 "nbformat": 4,
 "nbformat_minor": 5
}
