{
 "cells": [
  {
   "cell_type": "markdown",
   "id": "8d1b1346",
   "metadata": {},
   "source": [
    "## 150. Evaluate Reverse Polish Notation\n",
    "\n",
    "### Description \n",
    "\n",
    "You are given an array of strings tokens that represents an arithmetic expression in a Reverse Polish Notation.\n",
    "\n",
    "Evaluate the expression. Return an integer that represents the value of the expression.\n",
    "\n",
    "Note that:\n",
    "\n",
    "The valid operators are '+', '-', '*', and '/'.\n",
    "Each operand may be an integer or another expression.\n",
    "The division between two integers always truncates toward zero.\n",
    "There will not be any division by zero.\n",
    "The input represents a valid arithmetic expression in a reverse polish notation.\n",
    "The answer and all the intermediate calculations can be represented in a 32-bit integer.\n",
    "\n",
    "**Example**\n",
    "\n",
    "**Input:** tokens = [\"2\", \"1\", \"+\", \"3\",\"*\"]\n",
    "\n",
    "**Output:** 9\n",
    "\n",
    "**Explanation**: ((2 + 1) * 3) = 9\n",
    "\n",
    "**Input**: tokens = [\"10\",\"6\",\"9\",\"3\",\"+\",\"-11\",\"*\",\"/\",\"*\",\"17\",\"+\",\"5\",\"+\"]\n",
    "\n",
    "**Output:** 22\n",
    "\n",
    "**Explanation:** ((10 * (6 / ((9 + 3) * -11))) + 17) + 5\n",
    "\n",
    "= ((10 * (6 / (12 * -11))) + 17) + 5\n",
    "\n",
    "= ((10 * (6 / -132)) + 17) + 5\n",
    "\n",
    "= ((10 * 0) + 17) + 5\n",
    "\n",
    "= (0 + 17) + 5\n",
    "\n",
    "= 17 + 5\n",
    "\n",
    "= 22"
   ]
  },
  {
   "cell_type": "code",
   "execution_count": null,
   "id": "815bc705",
   "metadata": {},
   "outputs": [],
   "source": [
    "def evalRPN(tokens):\n",
    "    pass"
   ]
  }
 ],
 "metadata": {
  "kernelspec": {
   "display_name": "Python 3 (ipykernel)",
   "language": "python",
   "name": "python3"
  },
  "language_info": {
   "codemirror_mode": {
    "name": "ipython",
    "version": 3
   },
   "file_extension": ".py",
   "mimetype": "text/x-python",
   "name": "python",
   "nbconvert_exporter": "python",
   "pygments_lexer": "ipython3",
   "version": "3.9.13"
  }
 },
 "nbformat": 4,
 "nbformat_minor": 5
}
