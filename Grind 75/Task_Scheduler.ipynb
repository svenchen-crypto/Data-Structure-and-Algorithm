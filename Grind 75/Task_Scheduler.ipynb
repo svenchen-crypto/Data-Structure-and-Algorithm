{
 "cells": [
  {
   "cell_type": "markdown",
   "id": "1b928e08",
   "metadata": {},
   "source": [
    "## 621. Task Scheduler\n",
    "\n",
    "#### Description\n",
    "\n",
    "You are given an array of CPU `tasks`, each labeled with a letter from A to Z, and a number `n`. Each CPU interval can be idle or allow the completion of one task. Tasks can be completed in any order, but there's a constraint: there has to be a gap of at least n intervals between two tasks with the same label.\n",
    "\n",
    "Return the minimum number of CPU intervals required to complete all tasks.\n",
    "\n",
    "#### Example\n",
    "\n",
    "Input: `tasks = [\"A\",\"A\",\"A\",\"B\",\"B\",\"B\"], n = 2`\n",
    "\n",
    "Output: `8`\n",
    "\n",
    "Explanation: A possible sequence is: `A -> B -> idle -> A -> B -> idle -> A -> B.`\n",
    "\n",
    "After completing task `A`, you must wait two intervals before doing `A` again. The same applies to task `B`. In the 3rd interval, neither `A` nor `B` can be done, so you idle. By the 4th interval, you can do `A` again as 2 intervals have passed.\n",
    "\n",
    "\n",
    "Input: `tasks = [\"A\",\"C\",\"A\",\"B\",\"D\",\"B\"], n = 1`\n",
    "\n",
    "Output: `6`\n",
    "\n",
    "Explanation: A possible sequence is: `A -> B -> C -> D -> A -> B`.\n",
    "\n",
    "With a cooling interval of 1, you can repeat a task after just one other task.\n",
    "\n",
    "\n",
    "Input: `tasks = [\"A\",\"A\",\"A\", \"B\",\"B\",\"B\"], n = 3`\n",
    "\n",
    "Output: `10`\n",
    "\n",
    "Explanation: A possible sequence is: `A -> B -> idle -> idle -> A -> B -> idle -> idle -> A -> B`.\n",
    "\n",
    "There are only two types of tasks, A and B, which need to be separated by 3 intervals. This leads to idling twice between repetitions of these tasks.\n",
    "\n",
    "#### Solution (Priority Queue)"
   ]
  },
  {
   "cell_type": "code",
   "execution_count": null,
   "id": "61a9e2f8",
   "metadata": {},
   "outputs": [],
   "source": []
  }
 ],
 "metadata": {
  "kernelspec": {
   "display_name": "Python 3 (ipykernel)",
   "language": "python",
   "name": "python3"
  },
  "language_info": {
   "codemirror_mode": {
    "name": "ipython",
    "version": 3
   },
   "file_extension": ".py",
   "mimetype": "text/x-python",
   "name": "python",
   "nbconvert_exporter": "python",
   "pygments_lexer": "ipython3",
   "version": "3.9.13"
  }
 },
 "nbformat": 4,
 "nbformat_minor": 5
}
