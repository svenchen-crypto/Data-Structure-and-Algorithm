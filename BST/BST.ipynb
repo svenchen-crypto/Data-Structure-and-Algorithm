{
 "cells": [
  {
   "cell_type": "markdown",
   "id": "4f509c03",
   "metadata": {},
   "source": [
    "## Binary Seach Tree (BST)\n",
    "\n",
    "**Definition**: A **BST** is a data structure for organizing and storing data in a sorted manner. Each node in the tree has at most two children: a left child and a right child, with the left child containing values less than the parent node and the right child containing values greater than the parent node. This hierarchical structure allows for efficient searching, insertion, and deletion operations compared to linear structure (array, list etc).\n",
    "\n",
    "**BST Properties**\n",
    "\n",
    "   - $key[leftSubtree(x)] <= key[x] <= key[rightSubtree(x)]$\n",
    "\n",
    "\n",
    "### Tree traversal\n",
    "\n",
    "There are many ways of traversing a BST, we will focus on 3 of them for now, all of which are great subjects to demonstrate the meaning of 'recursive'. \n",
    "\n",
    "1. Preorder traversal: root -> left -> right\n",
    "\n",
    "2. Postorder traversal: left -> right -> root\n",
    "\n",
    "3. Inorder traversal: root -> left -> right\n",
    "\n",
    "### Implementation"
   ]
  },
  {
   "cell_type": "code",
   "execution_count": null,
   "id": "dfe22fd2",
   "metadata": {},
   "outputs": [],
   "source": [
    "class TreeNode():\n",
    "    \n",
    "    def __init__(self, val):\n",
    "        \n",
    "    \n",
    "    def inorder(self):\n",
    "        pass\n",
    "    \n",
    "    \n",
    "    def preorder(self):\n",
    "        pass\n",
    "    \n",
    "    \n",
    "    def postorder(self):\n",
    "        pass\n",
    "    \n",
    "    \n",
    "        "
   ]
  },
  {
   "cell_type": "markdown",
   "id": "0ee38587",
   "metadata": {},
   "source": [
    "**Definition**: Node $y$ is said to be the ***successor*** of $x$ if $key [y]$ is the smallest $key > key [x]$\n",
    "\n",
    "**Definition**: Node $y$ is said to be the ***predecessor***, such that key [y] is the biggest $key < key [x]$\n"
   ]
  }
 ],
 "metadata": {
  "kernelspec": {
   "display_name": "Python 3 (ipykernel)",
   "language": "python",
   "name": "python3"
  },
  "language_info": {
   "codemirror_mode": {
    "name": "ipython",
    "version": 3
   },
   "file_extension": ".py",
   "mimetype": "text/x-python",
   "name": "python",
   "nbconvert_exporter": "python",
   "pygments_lexer": "ipython3",
   "version": "3.9.13"
  }
 },
 "nbformat": 4,
 "nbformat_minor": 5
}
