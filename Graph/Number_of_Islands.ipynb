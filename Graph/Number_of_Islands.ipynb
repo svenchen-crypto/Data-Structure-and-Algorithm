{
 "cells": [
  {
   "cell_type": "markdown",
   "id": "cc9b4a03",
   "metadata": {},
   "source": [
    "## 200. Number of Islands\n",
    "\n",
    "### Description\n",
    "\n",
    "Given an $m * n$ 2D binary grid grid which represents a map of '1's (land) and '0's (water), return the number of islands. An island is surrounded by water and is formed by connecting adjacent lands horizontally or vertically. You may assume all four edges of the grid are all surrounded by water.\n",
    "\n",
    "### Examples\n",
    "\n",
    "**Input:** grid = [\n",
    "  [\"1\",\"1\",\"1\",\"1\",\"0\"],\n",
    "  [\"1\",\"1\",\"0\",\"1\",\"0\"],\n",
    "  [\"1\",\"1\",\"0\",\"0\",\"0\"],\n",
    "  [\"0\",\"0\",\"0\",\"0\",\"0\"]\n",
    "]\n",
    "\n",
    "**Output**: 1\n",
    "\n",
    "**Input:** grid = [\n",
    "  [\"1\",\"1\",\"0\",\"0\",\"0\"],\n",
    "  [\"1\",\"1\",\"0\",\"0\",\"0\"],\n",
    "  [\"0\",\"0\",\"1\",\"0\",\"0\"],\n",
    "  [\"0\",\"0\",\"0\",\"1\",\"1\"]\n",
    "]\n",
    "\n",
    "**Output:** 3\n",
    "\n",
    "### Solution\n",
    "\n",
    "This problem is representative of application of **DFS on grids**. We are familiar with DFS on a tree/graph, but how does it work on a grid type structure? Grids are a more complicated structure compared to binary trees but simpler relative to graphs. By statement, we know that grids filled with '1' is considered to be land and grids filled with '0' are ocean. Assume $grid[i][j]$ is an island, if $grid[i+1][j]$ is also an island, that means they belong to one same island. That is where the DFS comes in: if current grid is an island, we recursively check its neighbor. If its neighbor is ocean, we ignore it and continue, otherwise we repeat this proccess on the neighbor.\n",
    "\n",
    "**Pseudo code**\n",
    "\n",
    "```\n",
    "func DFS(grid, i, j):\n",
    "    if i, j not in range:\n",
    "        return\n",
    "    grid[i][j] = 2\n",
    "    DFS(grid, i+1, j)\n",
    "    DFS(grid, i-1, j)\n",
    "    DFS(grid, i, j+1)\n",
    "    DFS(grid, i, j-1)\n",
    "\n",
    "func numIsland(grid):\n",
    "    m, n = len(grid), len(grid[0])\n",
    "    cnt = 0\n",
    "    for i = 0, 1, ... m:\n",
    "        for j = 0, 1, ... n:\n",
    "            if grid[i][j] is island:\n",
    "                cnt++\n",
    "                DFS(grid, i, j)\n",
    "    return cnt\n",
    "```\n"
   ]
  },
  {
   "cell_type": "code",
   "execution_count": 5,
   "id": "4098eba0",
   "metadata": {},
   "outputs": [
    {
     "name": "stdout",
     "output_type": "stream",
     "text": [
      "1\n"
     ]
    }
   ],
   "source": [
    "def DFS(grid, i, j, m, n):\n",
    "    if i<0 or i>m-1 or j<0 or j>n-1:\n",
    "        return\n",
    "    if grid[i][j] == '0' or grid[i][j] == '2':\n",
    "        return\n",
    "    grid[i][j] = '2'\n",
    "    DFS(grid, i+1, j, m, n)\n",
    "    DFS(grid, i-1, j, m, n)\n",
    "    DFS(grid, i, j+1, m, n)\n",
    "    DFS(grid, i, j-1, m, n)\n",
    "\n",
    "def numbIslands(grid):\n",
    "    m, n = len(grid), len(grid[0])\n",
    "    cnt = 0\n",
    "    for i in range(m):\n",
    "        for j in range(n):\n",
    "            if grid[i][j] == '1':\n",
    "                cnt+= 1\n",
    "                DFS(grid, i, j, m, n)\n",
    "    return cnt\n",
    "\n",
    "grid = [[\"1\",\"1\",\"1\",\"1\",\"0\"],[\"1\",\"1\",\"0\",\"1\",\"0\"],[\"1\",\"1\",\"0\",\"0\",\"0\"],[\"0\",\"0\",\"0\",\"0\",\"0\"]]\n",
    "ans = numbIslands(grid)\n",
    "print(ans)"
   ]
  },
  {
   "cell_type": "markdown",
   "id": "6a4b16fc",
   "metadata": {},
   "source": [
    "### Time complexity\n",
    "\n",
    "$O(m*n)$, where $m,n$ are the number of rows and columns of the grid respectively. \n",
    "\n",
    "### Similar problems\n",
    "\n",
    "- Leetcode 463. Island Perimeter\n",
    "\n",
    "- Leetcode 695. Max Area of Island\n",
    "\n",
    "- Leetcode 827. Making A Large Island\n",
    "\n",
    "Luckily, this type problem can be cracked down using DFS with code snippet looks like this:\n",
    "\n",
    "```\n",
    "func DFS(grid, i, j):\n",
    "    if i, j not in range:\n",
    "        return\n",
    "    grid[i][j] = 2\n",
    "    DFS(grid, i+1, j)\n",
    "    DFS(grid, i-1, j)\n",
    "    DFS(grid, i, j+1)\n",
    "    DFS(grid, i, j-1)\n",
    "```"
   ]
  },
  {
   "cell_type": "code",
   "execution_count": null,
   "id": "955b8983",
   "metadata": {},
   "outputs": [],
   "source": []
  }
 ],
 "metadata": {
  "kernelspec": {
   "display_name": "Python 3 (ipykernel)",
   "language": "python",
   "name": "python3"
  },
  "language_info": {
   "codemirror_mode": {
    "name": "ipython",
    "version": 3
   },
   "file_extension": ".py",
   "mimetype": "text/x-python",
   "name": "python",
   "nbconvert_exporter": "python",
   "pygments_lexer": "ipython3",
   "version": "3.9.13"
  }
 },
 "nbformat": 4,
 "nbformat_minor": 5
}
