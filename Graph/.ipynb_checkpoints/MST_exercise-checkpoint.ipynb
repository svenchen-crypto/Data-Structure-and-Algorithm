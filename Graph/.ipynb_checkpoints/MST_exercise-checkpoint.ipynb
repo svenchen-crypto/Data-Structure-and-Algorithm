{
 "cells": [
  {
   "attachments": {
    "image-2.png": {
     "image/png": "[encoded data removed]"
    },
    "image.png": {
     "image/png": "[encoded data removed]"
    }
   },
   "cell_type": "markdown",
   "id": "1f8eb958",
   "metadata": {},
   "source": [
    "## 1135. Connecting Cities With Minimum Cost\n",
    "\n",
    "### Description\n",
    "\n",
    "There are n cities labeled from 1 to n. You are given the integer n and an array connections where $connections[i] = [x_i, y_i, cost_i]$ indicates that the cost of connecting city $x_i$ and city $y_i$ (bidirectional connection) is $cost_i$.\n",
    "\n",
    "Return the minimum cost to connect all the $n$ cities such that there is at least one path between each pair of cities. If it is impossible to connect all the n cities, return $-1$,\n",
    "\n",
    "The cost is the sum of the connections' costs used.\n",
    "\n",
    "#### Examples\n",
    "\n",
    "![image.png](attachment:image.png)\n",
    "\n",
    "Input: $n = 3, connections = [[1,2,5],[1,3,6],[2,3,1]]$\n",
    "\n",
    "Output: $6$\n",
    "\n",
    "Explanation: Choosing any $2$ edges will connect all cities so we choose the minimum $2$.\n",
    "\n",
    "![image-2.png](attachment:image-2.png)\n",
    "\n",
    "Input: $n = 4, connections = [[1,2,3],[3,4,4]]$\n",
    "\n",
    "Output: $-1$\n",
    "\n",
    "Explanation: There is no way to connect all cities even if all edges are used.\n",
    "\n",
    "### Solution \n",
    "\n",
    "**Prim's Algorithm**"
   ]
  },
  {
   "cell_type": "code",
   "execution_count": 3,
   "id": "078026f3",
   "metadata": {},
   "outputs": [
    {
     "name": "stdout",
     "output_type": "stream",
     "text": [
      "Total cost is 6\n"
     ]
    }
   ],
   "source": [
    "import collections\n",
    "import heapq\n",
    "\n",
    "def primsMinimumCost(n, connections):\n",
    "    # Initialize the graph with info provided\n",
    "    g = collections.defaultdict(list) \n",
    "    for u, v, w in connections:\n",
    "        g[u].append((v, w))\n",
    "        g[v].append((u, w))\n",
    "    # Empty dict to store the tree\n",
    "    MST = {}\n",
    "    total_cost = 0\n",
    "    # min heap for Prim's algorithm, use 1 as root of the tree\n",
    "    min_heap = [(0, 1)]\n",
    "    while min_heap:\n",
    "        cost, city = heapq.heappop(min_heap)\n",
    "        # If city not in tree, grow the tree by one\n",
    "        if city not in MST.keys():\n",
    "            MST[city] = cost\n",
    "            total_cost += cost\n",
    "            for next_city, edge_weight in g[city]:\n",
    "                if next_city not in MST.keys():\n",
    "                    heapq.heappush(min_heap, (edge_weight, next_city))\n",
    "    return total_cost if n == len(MST.keys()) else -1\n",
    "\n",
    "connections = [[1,2,5],[1,3,6],[2,3,1]]\n",
    "total_cost = primsMinimumCost(3, connections)\n",
    "print(f\"Total cost is {total_cost}\")"
   ]
  },
  {
   "cell_type": "markdown",
   "id": "fecc0d1a",
   "metadata": {},
   "source": [
    "**Kruskal Algorithm**"
   ]
  },
  {
   "cell_type": "code",
   "execution_count": null,
   "id": "83cae084",
   "metadata": {},
   "outputs": [],
   "source": [
    "def kruskalMinimumCost(n, connections):\n",
    "    pass"
   ]
  },
  {
   "attachments": {
    "image-2.png": {
     "image/png": "[encoded data removed]"
    },
    "image.png": {
     "image/png": "[encoded data removed]"
    }
   },
   "cell_type": "markdown",
   "id": "3d332ed5",
   "metadata": {},
   "source": [
    "## 1584. Min Cost to Connect All Points\n",
    "\n",
    "### Description\n",
    "\n",
    "You are given an array points representing integer coordinates of some points on a 2D-plane, where $points[i] = [x_i, y_i]$.\n",
    "\n",
    "The cost of connecting two points $[x_i, y_i]$ and $[x_j, y_j]$ is the manhattan distance between them: $|x_i - x_j| + |y_i - y_j|$, where |val| denotes the absolute value of val.\n",
    "\n",
    "Return the minimum cost to make all points connected. All points are connected if there is exactly one simple path between any two points.\n",
    "\n",
    "#### Examples\n",
    "\n",
    "![image.png](attachment:image.png)\n",
    "\n",
    "Input: $points = [[0,0],[2,2],[3,10],[5,2],[7,0]]$\n",
    "\n",
    "Output: $20$\n",
    "\n",
    "Explanation:\n",
    "\n",
    "![image-2.png](attachment:image-2.png)\n",
    "\n",
    "We can connect the points as shown above to get the minimum cost of $20$. Notice that there is a unique path between every pair of points.\n",
    "\n",
    "Input: $points = [[3,12],[-2,5],[-4,1]]$\n",
    "\n",
    "Output: $18$\n",
    "\n",
    "### Solution \n",
    "\n",
    "**Prim's algorithm**"
   ]
  },
  {
   "cell_type": "code",
   "execution_count": 1,
   "id": "106aaaad",
   "metadata": {},
   "outputs": [],
   "source": [
    "def MinCostConnectPoints(points):\n",
    "    # Initialize the graph\n",
    "    g = collections.defaultdict(list)\n",
    "    for i in range(len(points)):\n",
    "        x_1, y_1 = points[i]\n",
    "        for j in range(i + 1, len(points)):\n",
    "            x_2, y_2 = points[j]\n",
    "            dist = abs(x_1 - x_2) + abs(y_1 - y_2)\n",
    "            g[i].append((dist, j))\n",
    "            g[j].append((dist, i))\n",
    "    MST = {}\n",
    "    # Let 0 be the root of the tree\n",
    "    min_heap = [(0, 0)]\n",
    "    total_cost = 0\n",
    "    # Prim's algorithm\n",
    "    while min_heap:\n",
    "        cost, point = heapq.heappop(min_heap)\n",
    "        # Grow the tree by one if new node encountered\n",
    "        if point not in MST.keys():\n",
    "            MST[point] = cost\n",
    "            total_cost += cost\n",
    "            for weight, neighbor in g[point]:\n",
    "                heapq.heappush(min_heap, (weight, neighbor))\n",
    "    return total_cost"
   ]
  },
  {
   "cell_type": "markdown",
   "id": "a4aa81b0",
   "metadata": {},
   "source": [
    "**Kruskal's algorithm**"
   ]
  },
  {
   "cell_type": "code",
   "execution_count": null,
   "id": "2dfb2b24",
   "metadata": {},
   "outputs": [],
   "source": [
    "def MinCostConnectPoints(points):\n",
    "    pass"
   ]
  }
 ],
 "metadata": {
  "kernelspec": {
   "display_name": "Python 3 (ipykernel)",
   "language": "python",
   "name": "python3"
  },
  "language_info": {
   "codemirror_mode": {
    "name": "ipython",
    "version": 3
   },
   "file_extension": ".py",
   "mimetype": "text/x-python",
   "name": "python",
   "nbconvert_exporter": "python",
   "pygments_lexer": "ipython3",
   "version": "3.9.13"
  }
 },
 "nbformat": 4,
 "nbformat_minor": 5
}
