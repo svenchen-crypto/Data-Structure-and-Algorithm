{
 "cells": [
  {
   "cell_type": "markdown",
   "id": "1693fe7b",
   "metadata": {},
   "source": [
    "## 994. Rotting oranges\n",
    "\n",
    "### Description\n",
    "\n",
    "You are given an m x n grid where each cell can have one of three values:\n",
    "\n",
    "- 0 representing an empty cell,\n",
    "\n",
    "- 1 representing a fresh orange, or\n",
    "\n",
    "- 2 representing a rotten orange.\n",
    "\n",
    "Every minute, any fresh orange that is 4-directionally adjacent to a rotten orange becomes rotten.\n",
    "\n",
    "Return the minimum number of minutes that must elapse until no cell has a fresh orange. If this is impossible, return -1.\n",
    "\n",
    "### Examples\n",
    "\n",
    "**Input**: grid = [[2,1,1],[1,1,0],[0,1,1]]\n",
    "\n",
    "**Output**: 4\n",
    "\n",
    "**Input**: grid = [[2,1,1],[0,1,1],[1,0,1]]\n",
    "\n",
    "**Output**: -1\n",
    "\n",
    "**Explanation**: The orange in the bottom left corner (row 2, column 0) is never rotten, because rotting only happens 4-directionally.\n",
    "\n",
    "\n",
    "### Solution (Applying BFS on grid)\n",
    "\n",
    "**Why BFS? **\n",
    "\n",
    "Recall that BFS can be used to find minimum distance in a unweighted graph. The node that BFS searches for first must be its neighbors, in the grid, the neighbor of a node is the adjacent ones (up, down, left, right). Back to the question, the problem asks us to find the minimum time required for all oranges to be rotten. In other words, it asks us to find the *shortest distance* from rotten oranges to fresh ones. \n",
    "\n",
    "1. Add all grids with rotten oranges to a queue\n",
    "\n",
    "2. While queue is not empty, for each of grid in queue, check whether its neighbors are fresh, if so, rot it and add the neighbor to the queue; otherwise, ignore and continue\n",
    "\n",
    "3. Check whether input grids still contains fresh orange after above steps, if does, return -1, retuen counter otherwise. \n",
    "\n",
    "**Pseudocode**\n",
    "\n",
    "```\n",
    "func BFS(grid):\n",
    "    queue = {}\n",
    "    cnt = 0\n",
    "    for i=0, 1, 2, ... m:\n",
    "        for j=0, 1, 2, ... n:\n",
    "            if grid[i][j]==2:\n",
    "                queue.add((i, j), cnt)\n",
    "                \n",
    "    while not queue.isEmpty():\n",
    "        x, y, cnt = queue.pop()\n",
    "        for dx, dy in directions:\n",
    "            if (x+dx, y+dy)in range and grid[x+dx][y+dy]==1:\n",
    "                queue.add((i, j), cnt+1)\n",
    "                grid[x+dx][x+dy] = 2\n",
    "                \n",
    "    for g in grid:\n",
    "        if g == 1:\n",
    "            return -1\n",
    "            \n",
    "    return cnt\n",
    "```"
   ]
  },
  {
   "cell_type": "code",
   "execution_count": 5,
   "id": "e1e1d548",
   "metadata": {},
   "outputs": [
    {
     "name": "stdout",
     "output_type": "stream",
     "text": [
      "4\n"
     ]
    }
   ],
   "source": [
    "import collections\n",
    "\n",
    "def orangesRotting(grid):\n",
    "    time = 0\n",
    "    rows, cols = len(grid), len(grid[0])\n",
    "    \n",
    "    #Add all rotten oranges to queue\n",
    "    queue = collections.deque()\n",
    "    for i in range(rows):\n",
    "        for j in range(cols):\n",
    "            if grid[i][j] == 2:\n",
    "                queue.append((i, j, time))\n",
    "\n",
    "    directions = [(1, 0), (-1, 0), (0, 1), (0, -1)]\n",
    "    while queue:\n",
    "        x, y, time = queue.popleft()\n",
    "        for dx, dy in directions:\n",
    "            if 0 <= x + dx <= rows-1 and 0 <= y + dy <= cols-1 and grid[x+dx][y+dy] == 1:\n",
    "                grid[x+dx][y+dy] = 2\n",
    "                queue.append((x+dx, y+dy, time+1))\n",
    "\n",
    "    for row in grid:\n",
    "        if 1 in row: \n",
    "            return -1\n",
    "\n",
    "    return time\n",
    "\n",
    "                             \n",
    "grid = [[2,1,1],[1,1,0],[0,1,1]]\n",
    "time = orangesRotting(grid)\n",
    "print(time)"
   ]
  },
  {
   "cell_type": "markdown",
   "id": "6e3e2ed7",
   "metadata": {},
   "source": [
    "### Time complexity\n",
    "\n",
    "$O(m*n)$"
   ]
  }
 ],
 "metadata": {
  "kernelspec": {
   "display_name": "Python 3 (ipykernel)",
   "language": "python",
   "name": "python3"
  },
  "language_info": {
   "codemirror_mode": {
    "name": "ipython",
    "version": 3
   },
   "file_extension": ".py",
   "mimetype": "text/x-python",
   "name": "python",
   "nbconvert_exporter": "python",
   "pygments_lexer": "ipython3",
   "version": "3.9.13"
  }
 },
 "nbformat": 4,
 "nbformat_minor": 5
}
