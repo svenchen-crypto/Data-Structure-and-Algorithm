{
 "cells": [
  {
   "cell_type": "markdown",
   "id": "df7bea36",
   "metadata": {},
   "source": [
    "## 55. Jump Game\n",
    "\n",
    "#### *Description*\n",
    "\n",
    "You are given an integer array `nums`. You are initially positioned at the array's first index, and each element in the array represents your maximum jump length at that position.\n",
    "\n",
    "Return true if you can reach the last index, or false otherwise.\n",
    "\n",
    "#### Examples\n",
    "\n",
    "Input: `steps = [2,3,1,1,4]`\n",
    "\n",
    "Output: true\n",
    "\n",
    "Explanation: Jump 1 step from index 0 to 1, then 3 steps to the last index.\n",
    "\n",
    "Input: `steps = [3,2,1,0,4]`\n",
    "\n",
    "Output: false\n",
    "\n",
    "Explanation: You will always arrive at index 3 no matter what. Its maximum jump length is 0, which makes it impossible to reach the last index.\n",
    "\n",
    "\n",
    "### Solution (Greedy Algorithm)\n",
    "\n",
    "This problem closely resembles LeetCode 134: Gas Station, which is typically solved using a greedy approach. Like Gas Station, the main challenge lies in determining the correct greedy choice. Initially, I tried to identify the index with the maximum steps within the range I could reach. For example, in example 1, at the start of the game, we are at index 0, and the reachable indices are 1 and 2. Since index 1 has the highest number of steps, I chose it as the 'station' to proceed to, and continued this process iteratively.\n",
    "\n",
    "Although this strategy initially feels intuitive, it contains a significant flaw. If multiple indices $j$ with the same number of steps as previous 'stations' appear, we risk getting stuck in a loop, unable to decide which one to pick. For instance, if the input array is `[1, 1, 1, 1, 1, 1]`, we can certainly reach the end of the array. However, using the previously described approach, it becomes unclear how to proceed. This demonstrates that while a simple greedy approach might seem promising, careful consideration of edge cases is crucial to ensure a viable solution.\n",
    "\n",
    "I then made an important observation: if one can complete the jumping game, they must be able to reach all indices in the array from index 0. The task is to ensure that each index can be reached from index 0. We can initialize a variable $x$ to store the furthest index that can be reached, which is computed by $\\max(x, i + \\text{steps}[i])$. If $x < i$, it means the $i$-th index cannot be reached from 0, so the game cannot be completed. Otherwise, update $x$ and continue until we either reach the end or encounter an $i$ such that $\\text{steps}[i] > i$.\n",
    "\n",
    "\n",
    "### Pseudocode\n",
    "\n",
    "```\n",
    "func jumpGame(steps)\n",
    "    furthestCanReach = 0\n",
    "    for i, step in steps:\n",
    "        if i > furthestCanReach:\n",
    "            return False\n",
    "        furthestCanReach = max(furthestCanReach, i + step)\n",
    "        if furthestCanReach >= N - 1:\n",
    "            return True\n",
    "    return False\n",
    "```"
   ]
  },
  {
   "cell_type": "code",
   "execution_count": 8,
   "id": "c151da51",
   "metadata": {},
   "outputs": [
    {
     "name": "stdout",
     "output_type": "stream",
     "text": [
      "Result of jump game of [2, 3, 1, 1, 4] is True\n",
      "\n",
      "Result of jump game of [3, 2, 1, 0, 4] is False\n",
      "\n",
      "Result of jump game of [1, 1, 1, 1, 1, 1] is True\n",
      "\n"
     ]
    }
   ],
   "source": [
    "def jumpGame(steps):\n",
    "    N = len(steps)\n",
    "    # Corner cases\n",
    "    if N == 1:\n",
    "        return True\n",
    "    if steps[0] >= N - 1:\n",
    "        return True\n",
    "    \n",
    "    furthestCanReach = 0\n",
    "    for i in range(N):\n",
    "        # Current index is beyond reach\n",
    "        if i > furthestCanReach:\n",
    "            return False\n",
    "        # Update furthest index that can be reached\n",
    "        furthestCanReach = max(furthestCanReach, i + steps[i])\n",
    "        # If furthest index after updating is beyond N\n",
    "        if furthestCanReach>= N - 1:\n",
    "            return True\n",
    "    return False\n",
    "\n",
    "steps1 = [2, 3, 1, 1, 4]\n",
    "steps2 = [3, 2, 1, 0, 4]\n",
    "steps3 = [1, 1, 1, 1, 1, 1]\n",
    "print(f\"Result of jump game of {steps1} is {jumpGame(steps1)}\\n\")\n",
    "print(f\"Result of jump game of {steps2} is {jumpGame(steps2)}\\n\")\n",
    "print(f\"Result of jump game of {steps3} is {jumpGame(steps3)}\\n\")"
   ]
  },
  {
   "cell_type": "markdown",
   "id": "2ea2aa18",
   "metadata": {},
   "source": [
    "### Complexity Analysis\n",
    "\n",
    "**Time Complexity**\n",
    "\n",
    "$O(n)$\n",
    "\n",
    "**Space Complexity**\n",
    "\n",
    "$O(1)$"
   ]
  }
 ],
 "metadata": {
  "kernelspec": {
   "display_name": "Python 3 (ipykernel)",
   "language": "python",
   "name": "python3"
  },
  "language_info": {
   "codemirror_mode": {
    "name": "ipython",
    "version": 3
   },
   "file_extension": ".py",
   "mimetype": "text/x-python",
   "name": "python",
   "nbconvert_exporter": "python",
   "pygments_lexer": "ipython3",
   "version": "3.9.13"
  }
 },
 "nbformat": 4,
 "nbformat_minor": 5
}
