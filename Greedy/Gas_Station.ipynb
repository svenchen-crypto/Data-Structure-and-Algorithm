{
 "cells": [
  {
   "cell_type": "markdown",
   "id": "ca4ac60b",
   "metadata": {},
   "source": [
    "## 134. Gas Station\n",
    "\n",
    "### Description\n",
    "\n",
    "There are `n` gas stations along a circular route, where the amount of gas at the ith station is `gas[i]`\n",
    "\n",
    "You have a car with an unlimited gas tank and it costs `cost[i]` of gas to travel from the ith station to its next `(i + 1)th` station. You begin the journey with an empty tank at one of the gas stations.\n",
    "\n",
    "Given two integer arrays gas and cost, return the starting gas station's index if you can travel around the circuit once in the clockwise direction, otherwise return `-1`. If there exists a solution, it is guaranteed to be unique.\n",
    "\n",
    "#### Example\n",
    "\n",
    "Input: `gas = [1,2,3,4,5], cost = [3,4,5,1,2]`\n",
    "\n",
    "Output: `3`\n",
    "\n",
    "Explanation:\n",
    "Start at station `3` (index 3) and fill up with `4` unit of gas. Your tank = `0 + 4 = 4`\n",
    "Travel to station `4`. Your tank = `4 - 1 + 5 = 8`\n",
    "Travel to station `0`. Your tank = `8 - 2 + 1 = 7`\n",
    "Travel to station `1`. Your tank = `7 - 3 + 2 = 6`\n",
    "Travel to station `2`. Your tank = `6 - 4 + 3 = 5`\n",
    "Travel to station `3`. The cost is `5`. Your gas is just enough to travel back to station `3`.\n",
    "Therefore, return `3` as the starting index.\n",
    "\n",
    "Input: `gas = [2,3,4], cost = [3,4,3]`\n",
    "\n",
    "Output: `-1`\n",
    "\n",
    "Explanation:\n",
    "You can't start at station `0` or `1`, as there is not enough gas to travel to the next station.\n",
    "Let's start at station `2` and fill up with `4` unit of gas. Your tank = `0 + 4 = 4`\n",
    "Travel to station `0`. Your tank = `4 - 3 + 2 = 3`\n",
    "Travel to station `1`. Your tank = `3 - 3 + 3 = 3`\n",
    "You cannot travel back to station `2`, as it requires `4` unit of gas but you only have `3`.\n",
    "Therefore, you can't travel around the circuit once no matter where you start.\n",
    "\n",
    "### Solution \n",
    "\n",
    "The problem is clearly about a greedy algorithm, but the challenge with greedy problems is not recognizing them—recognizing them is usually straightforward. The real difficulty lies in determining the correct greedy choice. When I first approached this problem, my initial thought was to use sorting: to maximize the remaining gas in the tank at each step, ensuring we can reach the next station. However, this is not necessarily the right approach. Consider the following case: station i has n gallons of gas, but traveling to station i+1 requires n + 1 gallons. This highlights a key insight: if such a station i exists, it may have enough gas to reach the next station j but cannot sustain the entire journey starting from any other station.\n",
    "\n",
    "To solve this, we need to check two conditions:\n",
    "\n",
    "\t1.\tWhether a station i has enough gas to reach the next station.\n",
    "\t2.\tWhether the previous station, i-1, could reach station i in the first place. If i-1 cannot reach i, then it certainly can’t reach j.\n",
    "\n",
    "Thus, when searching for the starting station that allows a complete journey, we should focus on whether station i can successfully reach station j. If it has enough gas to cover the required distance, we continue. If not, we change our starting point to station j and repeat the process. This ensures that the starting point always has enough gas to reach the next station and complete the full loop. Here lies the essence of the greedy choice: **we progressively eliminate impossible starting points and focus on viable ones.**\n",
    "\n",
    "\n",
    "#### Pseudocode\n",
    "\n",
    "```\n",
    "func canFinish(gas, cost):\n",
    "    if sum(gas) < sum(cost):\n",
    "        return -1\n",
    "    gas_in_tank = 0\n",
    "    ans = 0\n",
    "    for i = 0, 1, ...n, do:\n",
    "        gas_in_tank = gas_in_tank + (gas[i] - cost[i])\n",
    "        if gas_in_tank < 0:\n",
    "            ans = i + 1\n",
    "            gas_in_tank = 0\n",
    "    if gas_in_tank >= 0:\n",
    "        return ans \n",
    "    else \n",
    "        return -1\n",
    "```"
   ]
  },
  {
   "cell_type": "code",
   "execution_count": 7,
   "id": "0fa298fa",
   "metadata": {},
   "outputs": [
    {
     "name": "stdout",
     "output_type": "stream",
     "text": [
      "The ideal start point is 3\n"
     ]
    }
   ],
   "source": [
    "def canFinish(gas, cost):\n",
    "    # Check whether there's enough gas to cover the entire trip\n",
    "    if sum(gas) < sum(cost):\n",
    "        return -1\n",
    "    gas_in_tank = 0\n",
    "    start = 0\n",
    "    for i, (amount, expense) in enumerate(zip(gas, cost)):\n",
    "        gas_in_tank += (amount - expense)\n",
    "        # If there is no gas in the tank, then we can not reach i+1 from i, meaning current start is not ideal\n",
    "        if gas_in_tank < 0:\n",
    "            # Set start to be next station of current station and empty and tank\n",
    "            start = i + 1\n",
    "            gas_in_tank = 0\n",
    "    return start if gas_in_tank >= 0 else -1\n",
    "    \n",
    "    \n",
    "gas = [1,2,3,4,5]\n",
    "cost = [3,4,5,1,2]\n",
    "start = canFinish(gas, cost)\n",
    "print(f\"The ideal start point is {start}\")"
   ]
  },
  {
   "cell_type": "markdown",
   "id": "f5274cd0",
   "metadata": {},
   "source": [
    "### Complexity Analysis\n",
    "\n",
    "**Time Complexity**\n",
    "\n",
    "$O(n)$\n",
    "\n",
    "**Space Complexity**\n",
    "\n",
    "$O(1)$"
   ]
  }
 ],
 "metadata": {
  "kernelspec": {
   "display_name": "Python 3 (ipykernel)",
   "language": "python",
   "name": "python3"
  },
  "language_info": {
   "codemirror_mode": {
    "name": "ipython",
    "version": 3
   },
   "file_extension": ".py",
   "mimetype": "text/x-python",
   "name": "python",
   "nbconvert_exporter": "python",
   "pygments_lexer": "ipython3",
   "version": "3.9.13"
  }
 },
 "nbformat": 4,
 "nbformat_minor": 5
}
