{
 "cells": [
  {
   "cell_type": "markdown",
   "id": "8c1734e3",
   "metadata": {},
   "source": [
    "## 739. House Robber\n",
    "\n",
    "### Description\n",
    "\n",
    "You are a professional robber planning to rob houses along a street. Each house has a certain amount of money stashed, the only constraint stopping you from robbing each of them is that adjacent houses have security systems connected and **it will automatically contact the police if two adjacent houses were broken into on the same night.**\n",
    "\n",
    "Given an integer array `nums` representing the amount of money of each house, return the maximum amount of money you can rob tonight without alerting the police.\n",
    "\n",
    "#### Example\n",
    "\n",
    "Input: `nums = [1,2,3,1]`\n",
    "\n",
    "Output: `4`\n",
    "\n",
    "Explanation: Rob house 1 (money = 1) and then rob house 3 (money = 3).\n",
    "Total amount you can `rob = 1 + 3 = 4.`\n",
    "\n",
    "Input: `nums = [2,7,9,3,1]`\n",
    "\n",
    "Output: `12`\n",
    "\n",
    "Explanation: Rob house 1 (money = 2), rob house 3 (money = 9) and rob house 5 (money = 1).\n",
    "Total amount you can `rob = 2 + 9 + 1 = 12`.\n",
    "\n",
    "### Solution\n",
    "\n",
    "**Naive Approach**\n",
    "\n",
    "Let's consider the simplest case, suppose the robber (Joe) "
   ]
  },
  {
   "cell_type": "code",
   "execution_count": null,
   "id": "95136757",
   "metadata": {},
   "outputs": [],
   "source": []
  }
 ],
 "metadata": {
  "kernelspec": {
   "display_name": "Python 3 (ipykernel)",
   "language": "python",
   "name": "python3"
  },
  "language_info": {
   "codemirror_mode": {
    "name": "ipython",
    "version": 3
   },
   "file_extension": ".py",
   "mimetype": "text/x-python",
   "name": "python",
   "nbconvert_exporter": "python",
   "pygments_lexer": "ipython3",
   "version": "3.9.13"
  }
 },
 "nbformat": 4,
 "nbformat_minor": 5
}
